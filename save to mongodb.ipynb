{
 "cells": [
  {
   "cell_type": "markdown",
   "id": "ab8f3de1",
   "metadata": {},
   "source": [
    "# Check Connected to MongoDB"
   ]
  },
  {
   "cell_type": "code",
   "execution_count": 1,
   "id": "e6e4a2ea",
   "metadata": {},
   "outputs": [
    {
     "name": "stdout",
     "output_type": "stream",
     "text": [
      "Connected to MongoDB.\n"
     ]
    }
   ],
   "source": [
    "from pymongo import MongoClient\n",
    "\n",
    "# create a client object\n",
    "client = MongoClient(\"mongodb://localhost:27017/\")\n",
    "\n",
    "# check the connection by calling the ping() method\n",
    "try:\n",
    "    client.server_info()  # this will raise an exception if the server is not available\n",
    "    print(\"Connected to MongoDB.\")\n",
    "except Exception as e:\n",
    "    print(\"Failed to connect to MongoDB:\", e)\n"
   ]
  },
  {
   "cell_type": "markdown",
   "id": "d11c50ff",
   "metadata": {},
   "source": [
    "# Scrap and save to database and csv"
   ]
  },
  {
   "cell_type": "code",
   "execution_count": 2,
   "id": "ad83b4d1",
   "metadata": {},
   "outputs": [
    {
     "name": "stdout",
     "output_type": "stream",
     "text": [
      "\n"
     ]
    }
   ],
   "source": [
    "import requests\n",
    "from bs4 import BeautifulSoup\n",
    "import csv\n",
    "from pymongo import MongoClient\n",
    "\n",
    "# Connect to MongoDB\n",
    "client = MongoClient()\n",
    "db = client.books_db\n",
    "collection = db.books_collection\n",
    "\n",
    "# Create a CSV file to store the book information\n",
    "with open(\"data/books.csv\", mode=\"w\", newline=\"\", encoding=\"utf-8\") as file:\n",
    "    writer = csv.writer(file)\n",
    "    writer.writerow([\"Title\", \"Description\", \"UPC\", \"Price\", \"Availability\", \"Image URL\"])\n",
    "\n",
    "    # Scrape data from each page\n",
    "    for page_num in range(1, 51):\n",
    "        base_url = f\"https://books.toscrape.com/catalogue/page-{page_num}.html\"\n",
    "        res = requests.get(base_url)\n",
    "        soup = BeautifulSoup(res.text, 'html.parser')\n",
    "        products = soup.find_all('article', class_='product_pod')\n",
    "\n",
    "        # Scrape data for each book on the page\n",
    "        for product in products:\n",
    "            # Extract the book URL and scrape its data\n",
    "            book_url = \"https://books.toscrape.com/catalogue/\" + product.find('a')['href']\n",
    "            res = requests.get(book_url)\n",
    "            soup = BeautifulSoup(res.text, 'html.parser')\n",
    "\n",
    "            title = soup.find('h1').get_text(strip=True)\n",
    "            description = soup.find('div', {'id': 'product_description'}).find_next('p').get_text(strip=True) if soup.find('div', {'id': 'product_description'}) else ''\n",
    "            table = soup.find('table', {'class': 'table table-striped'})\n",
    "            rows = table.find_all('tr') if table else []\n",
    "            upc = rows[0].find('td').get_text(strip=True) if rows else ''\n",
    "            price = rows[2].find('td').get_text(strip=True) if rows else ''\n",
    "            availability = rows[5].find('td').get_text(strip=True) if rows else ''\n",
    "            image_url = \"https://books.toscrape.com/\" + soup.find('div', class_='item active').find('img')['src'][6:]\n",
    "\n",
    "            # Write the data to CSV file\n",
    "            writer.writerow([title, description, upc, price, availability, image_url])\n",
    "\n",
    "            # Save the data to MongoDB\n",
    "            data = {\n",
    "                \"title\": title,\n",
    "                \"description\": description,\n",
    "                \"upc\": upc,\n",
    "                \"price\": price,\n",
    "                \"availability\": availability,\n",
    "                \"image_url\": image_url\n",
    "            }\n",
    "            collection.insert_one(data)\n",
    "\n",
    "# Close the MongoDB connection\n",
    "client.close()"
   ]
  },
  {
   "cell_type": "markdown",
   "id": "5fab26c9",
   "metadata": {},
   "source": [
    "# display results from database"
   ]
  },
  {
   "cell_type": "code",
   "execution_count": 3,
   "id": "3286fd00",
   "metadata": {},
   "outputs": [
    {
     "name": "stdout",
     "output_type": "stream",
     "text": [
      "{'_id': ObjectId('644731563399e5b8e6aece45'), 'title': 'A Light in the Attic', 'description': \"It's hard to imagine a world without A Light in the Attic. This now-classic collection of poetry and drawings from Shel Silverstein celebrates its 20th anniversary with this special edition. Silverstein's humorous and creative verse can amuse the dowdiest of readers. Lemon-faced adults and fidgety kids sit still and read these rhythmic words and laugh and smile and love th It's hard to imagine a world without A Light in the Attic. This now-classic collection of poetry and drawings from Shel Silverstein celebrates its 20th anniversary with this special edition. Silverstein's humorous and creative verse can amuse the dowdiest of readers. Lemon-faced adults and fidgety kids sit still and read these rhythmic words and laugh and smile and love that Silverstein. Need proof of his genius? RockabyeRockabye baby, in the treetopDon't you know a treetopIs no safe place to rock?And who put you up there,And your cradle, too?Baby, I think someone down here'sGot it in for you. Shel, you never sounded so good. ...more\", 'upc': 'a897fe39b1053632', 'price': 'Â£51.77', 'availability': 'In stock (22 available)', 'image_url': 'https://books.toscrape.com/media/cache/fe/72/fe72f0532301ec28892ae79a629a293c.jpg'}\n",
      "{'_id': ObjectId('644731583399e5b8e6aece46'), 'title': 'Tipping the Velvet', 'description': '\"Erotic and absorbing...Written with starling power.\"--\"The New York Times Book Review \" Nan King, an oyster girl, is captivated by the music hall phenomenon Kitty Butler, a male impersonator extraordinaire treading the boards in Canterbury. Through a friend at the box office, Nan manages to visit all her shows and finally meet her heroine. Soon after, she becomes Kitty\\'s \"Erotic and absorbing...Written with starling power.\"--\"The New York Times Book Review \" Nan King, an oyster girl, is captivated by the music hall phenomenon Kitty Butler, a male impersonator extraordinaire treading the boards in Canterbury. Through a friend at the box office, Nan manages to visit all her shows and finally meet her heroine. Soon after, she becomes Kitty\\'s dresser and the two head for the bright lights of Leicester Square where they begin a glittering career as music-hall stars in an all-singing and dancing double act. At the same time, behind closed doors, they admit their attraction to each other and their affair begins. ...more', 'upc': '90fa61229261140a', 'price': 'Â£53.74', 'availability': 'In stock (20 available)', 'image_url': 'https://books.toscrape.com/media/cache/08/e9/08e94f3731d7d6b760dfbfbc02ca5c62.jpg'}\n",
      "{'_id': ObjectId('6447315a3399e5b8e6aece47'), 'title': 'Soumission', 'description': 'Dans une France assez proche de la nÃ´tre, un homme sâ\\x80\\x99engage dans la carriÃ¨re universitaire. Peu motivÃ© par lâ\\x80\\x99enseignement, il sâ\\x80\\x99attend Ã\\xa0 une vie ennuyeuse mais calme, protÃ©gÃ©e des grands drames historiques. Cependant les forces en jeu dans le pays ont fissurÃ© le systÃ¨me politique jusquâ\\x80\\x99Ã\\xa0 provoquer son effondrement. Cette implosion sans soubresauts, sans vraie rÃ©volution, s Dans une France assez proche de la nÃ´tre, un homme sâ\\x80\\x99engage dans la carriÃ¨re universitaire. Peu motivÃ© par lâ\\x80\\x99enseignement, il sâ\\x80\\x99attend Ã\\xa0 une vie ennuyeuse mais calme, protÃ©gÃ©e des grands drames historiques. Cependant les forces en jeu dans le pays ont fissurÃ© le systÃ¨me politique jusquâ\\x80\\x99Ã\\xa0 provoquer son effondrement. Cette implosion sans soubresauts, sans vraie rÃ©volution, se dÃ©veloppe comme un mauvais rÃªve.Le talent de lâ\\x80\\x99auteur, sa force visionnaire nous entraÃ®nent sur un terrain ambigu et glissant ; son regard sur notre civilisation vieillissante fait coexister dans ce roman les intuitions poÃ©tiques, les effets comiques, une mÃ©lancolie fataliste.Ce livre est une saisissante fable politique et morale. ...more', 'upc': '6957f44c3847a760', 'price': 'Â£50.10', 'availability': 'In stock (20 available)', 'image_url': 'https://books.toscrape.com/media/cache/ee/cf/eecfe998905e455df12064dba399c075.jpg'}\n",
      "{'_id': ObjectId('6447315b3399e5b8e6aece48'), 'title': 'Sharp Objects', 'description': 'WICKED above her hipbone, GIRL across her heart Words are like a road map to reporter Camille Preakerâ\\x80\\x99s troubled past. Fresh from a brief stay at a psych hospital, Camilleâ\\x80\\x99s first assignment from the second-rate daily paper where she works brings her reluctantly back to her hometown to cover the murders of two preteen girls. NASTY on her kneecap, BABYDOLL on her leg Since WICKED above her hipbone, GIRL across her heart Words are like a road map to reporter Camille Preakerâ\\x80\\x99s troubled past. Fresh from a brief stay at a psych hospital, Camilleâ\\x80\\x99s first assignment from the second-rate daily paper where she works brings her reluctantly back to her hometown to cover the murders of two preteen girls. NASTY on her kneecap, BABYDOLL on her leg Since she left town eight years ago, Camille has hardly spoken to her neurotic, hypochondriac mother or to the half-sister she barely knows: a beautiful thirteen-year-old with an eerie grip on the town. Now, installed again in her familyâ\\x80\\x99s Victorian mansion, Camille is haunted by the childhood tragedy she has spent her whole life trying to cut from her memory. HARMFUL on her wrist, WHORE on her ankle As Camille works to uncover the truth about these violent crimes, she finds herself identifying with the young victimsâ\\x80\\x94a bit too strongly. Clues keep leading to dead ends, forcing Camille to unravel the psychological puzzle of her own past to get at the story. Dogged by her own demons, Camille will have to confront what happened to her years before if she wants to survive this homecoming.With its taut, crafted writing, Sharp Objects is addictive, haunting, and unforgettable. ...more', 'upc': 'e00eb4fd7b871a48', 'price': 'Â£47.82', 'availability': 'In stock (20 available)', 'image_url': 'https://books.toscrape.com/media/cache/c0/59/c05972805aa7201171b8fc71a5b00292.jpg'}\n",
      "{'_id': ObjectId('6447315e3399e5b8e6aece49'), 'title': 'Sapiens: A Brief History of Humankind', 'description': 'From a renowned historian comes a groundbreaking narrative of humanityâ\\x80\\x99s creation and evolutionâ\\x80\\x94a #1 international bestsellerâ\\x80\\x94that explores the ways in which biology and history have defined us and enhanced our understanding of what it means to be â\\x80\\x9chuman.â\\x80\\x9dOne hundred thousand years ago, at least six different species of humans inhabited Earth. Yet today there is only oneâ\\x80\\x94h From a renowned historian comes a groundbreaking narrative of humanityâ\\x80\\x99s creation and evolutionâ\\x80\\x94a #1 international bestsellerâ\\x80\\x94that explores the ways in which biology and history have defined us and enhanced our understanding of what it means to be â\\x80\\x9chuman.â\\x80\\x9dOne hundred thousand years ago, at least six different species of humans inhabited Earth. Yet today there is only oneâ\\x80\\x94homo sapiens. What happened to the others? And what may happen to us?Most books about the history of humanity pursue either a historical or a biological approach, but Dr. Yuval Noah Harari breaks the mold with this highly original book that begins about 70,000 years ago with the appearance of modern cognition. From examining the role evolving humans have played in the global ecosystem to charting the rise of empires, Sapiens integrates history and science to reconsider accepted narratives, connect past developments with contemporary concerns, and examine specific events within the context of larger ideas.Dr. Harari also compels us to look ahead, because over the last few decades humans have begun to bend laws of natural selection that have governed life for the past four billion years. We are acquiring the ability to design not only the world around us, but also ourselves. Where is this leading us, and what do we want to become?Featuring 27 photographs, 6 maps, and 25 illustrations/diagrams, this provocative and insightful work is sure to spark debate and is essential reading for aficionados of Jared Diamond, James Gleick, Matt Ridley, Robert Wright, and Sharon Moalem. ...more', 'upc': '4165285e1663650f', 'price': 'Â£54.23', 'availability': 'In stock (20 available)', 'image_url': 'https://books.toscrape.com/media/cache/ce/5f/ce5f052c65cc963cf4422be096e915c9.jpg'}\n"
     ]
    }
   ],
   "source": [
    "import pymongo\n",
    "\n",
    "# connect to MongoDB\n",
    "client = pymongo.MongoClient(\"mongodb://localhost:27017/\")\n",
    "db = client[\"books_db\"]\n",
    "books_collection = db[\"books_collection\"]\n",
    "\n",
    "# display first 10 books\n",
    "for book in books_collection.find().limit(5):\n",
    "    print(book)\n"
   ]
  }
 ],
 "metadata": {
  "kernelspec": {
   "display_name": "Python 3 (ipykernel)",
   "language": "python",
   "name": "python3"
  },
  "language_info": {
   "codemirror_mode": {
    "name": "ipython",
    "version": 3
   },
   "file_extension": ".py",
   "mimetype": "text/x-python",
   "name": "python",
   "nbconvert_exporter": "python",
   "pygments_lexer": "ipython3",
   "version": "3.11.0"
  }
 },
 "nbformat": 4,
 "nbformat_minor": 5
}
