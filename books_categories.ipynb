{
 "cells": [
  {
   "cell_type": "markdown",
   "id": "32d2d3ba",
   "metadata": {},
   "source": [
    "# books categories represent the different genres of books available on the website."
   ]
  },
  {
   "cell_type": "code",
   "execution_count": 1,
   "id": "a5e7240e",
   "metadata": {},
   "outputs": [
    {
     "name": "stdout",
     "output_type": "stream",
     "text": [
      "['Travel', 'Mystery', 'Historical Fiction', 'Sequential Art', 'Classics', 'Philosophy', 'Romance', 'Womens Fiction', 'Fiction', 'Childrens', 'Religion', 'Nonfiction', 'Music', 'Default', 'Science Fiction', 'Sports and Games', 'Add a comment', 'Fantasy', 'New Adult', 'Young Adult', 'Science', 'Poetry', 'Paranormal', 'Art', 'Psychology', 'Autobiography', 'Parenting', 'Adult Fiction', 'Humor', 'Horror', 'History', 'Food and Drink', 'Christian Fiction', 'Business', 'Biography', 'Thriller', 'Contemporary', 'Spirituality', 'Academic', 'Self Help', 'Historical', 'Christian', 'Suspense', 'Short Stories', 'Novels', 'Health', 'Politics', 'Cultural', 'Erotica', 'Crime']\n",
      "Number of categories: 50\n"
     ]
    }
   ],
   "source": [
    "import requests\n",
    "from bs4 import BeautifulSoup\n",
    "\n",
    "# Make a GET request to the website\n",
    "url = \"https://books.toscrape.com/\"\n",
    "response = requests.get(url)\n",
    "\n",
    "# Parse the HTML content using Beautiful Soup\n",
    "soup = BeautifulSoup(response.content, \"html.parser\")\n",
    "\n",
    "# Find the link to the \"Books\" category\n",
    "books_category = soup.select('a[href*=\"/category/books_1/\"]')\n",
    "\n",
    "# Find all the subcategories within the \"Books\" category\n",
    "subcategories = books_category[0].find_next(\"ul\").find_all(\"a\")\n",
    "\n",
    "# Create a list of subcategory titles\n",
    "subcategory_titles = [subcategory.text.strip() for subcategory in subcategories]\n",
    "\n",
    "# Print the subcategory titles as a list\n",
    "print(subcategory_titles)\n",
    "\n",
    "print(\"Number of categories:\", len(subcategory_titles))\n"
   ]
  }
 ],
 "metadata": {
  "kernelspec": {
   "display_name": "Python 3 (ipykernel)",
   "language": "python",
   "name": "python3"
  },
  "language_info": {
   "codemirror_mode": {
    "name": "ipython",
    "version": 3
   },
   "file_extension": ".py",
   "mimetype": "text/x-python",
   "name": "python",
   "nbconvert_exporter": "python",
   "pygments_lexer": "ipython3",
   "version": "3.11.0"
  }
 },
 "nbformat": 4,
 "nbformat_minor": 5
}
