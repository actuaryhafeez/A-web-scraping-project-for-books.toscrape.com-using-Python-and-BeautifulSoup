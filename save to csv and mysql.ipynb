{
 "cells": [
  {
   "cell_type": "markdown",
   "id": "930dab40",
   "metadata": {},
   "source": [
    "# Scrap to save in csv and mysql"
   ]
  },
  {
   "cell_type": "code",
   "execution_count": 1,
   "id": "0a2707c4",
   "metadata": {},
   "outputs": [
    {
     "name": "stdout",
     "output_type": "stream",
     "text": [
      "Connection to the database was successful!\n",
      "Data extraction and insertion complete!\n"
     ]
    }
   ],
   "source": [
    "import requests\n",
    "from bs4 import BeautifulSoup\n",
    "import csv\n",
    "import mysql.connector\n",
    "\n",
    "# Connect to the MySQL database\n",
    "try:\n",
    "    db = mysql.connector.connect(\n",
    "        host=\"localhost\",\n",
    "        user=\"root\",\n",
    "        password=\"\",\n",
    "        database=\"books_db\"\n",
    "    )\n",
    "    print(\"Connection to the database was successful!\")\n",
    "except mysql.connector.Error as e:\n",
    "    print(f\"Error connecting to MySQL: {e}\")\n",
    "    exit()\n",
    "\n",
    "# Create a cursor object to interact with the database\n",
    "cursor = db.cursor()\n",
    "\n",
    "# Create a table to store the book information\n",
    "cursor.execute(\"\"\"\n",
    "    CREATE TABLE IF NOT EXISTS books (\n",
    "        id INT AUTO_INCREMENT PRIMARY KEY,\n",
    "        title VARCHAR(255),\n",
    "        rating VARCHAR(10),\n",
    "        price VARCHAR(20),\n",
    "        availability VARCHAR(50),\n",
    "        category VARCHAR(255),\n",
    "        image_url VARCHAR(255)\n",
    "    )\n",
    "\"\"\")\n",
    "\n",
    "# Create a CSV file to store the book information\n",
    "with open(\"data/books_info.csv\", mode=\"w\", newline=\"\", encoding=\"utf-8\") as file:\n",
    "    writer = csv.writer(file)\n",
    "    writer.writerow([\"Title\", \"Rating\", \"Price\", \"Availability\", \"Category\", \"Image URL\"])\n",
    "\n",
    "    base_url = 'http://books.toscrape.com/catalogue/page-{}.html'\n",
    "    \n",
    "    for page_num in range(1, 51):\n",
    "        # Request the page\n",
    "        res = requests.get(base_url.format(page_num))\n",
    "\n",
    "        # Parse the HTML content using BeautifulSoup\n",
    "        soup = BeautifulSoup(res.text, 'html.parser')\n",
    "\n",
    "        # Find all products on the page\n",
    "        products = soup.find_all('article', class_='product_pod')\n",
    "\n",
    "        # Loop through each product and extract the information\n",
    "        for product in products:\n",
    "            # Extract the title\n",
    "            title = product.find('h3').find('a').get('title')\n",
    "\n",
    "            # Extract the rating\n",
    "            rating = product.find('p', class_='star-rating')['class'][1]\n",
    "\n",
    "            # Extract the price\n",
    "            price = product.select('.price_color')[0].get_text()\n",
    "\n",
    "            # Extract the availability\n",
    "            availability = product.select('.availability')[0].get_text().strip()\n",
    "\n",
    "            # Extract the URL slug\n",
    "            url_slug = product.find('a')['href']\n",
    "\n",
    "            # Extract the image URL\n",
    "            image_url = f\"http://books.toscrape.com/{product.find('img')['src'][5:]}\"\n",
    "\n",
    "            # Extract the category from the URL slug\n",
    "            category = url_slug.split('/')[2] if len(url_slug.split('/')) >= 3 else ''\n",
    "\n",
    "            # Write the information to the CSV file\n",
    "            writer.writerow([title, rating, price, availability, category, image_url])\n",
    "\n",
    "            # Insert the information into the database\n",
    "            cursor.execute(\"INSERT INTO books (title, rating, price, availability, category, image_url) VALUES (%s, %s, %s, %s, %s, %s)\", (title, rating, price, availability, category, image_url))\n",
    "            db.commit()\n",
    "\n",
    "print(\"Data extraction and insertion complete!\")\n",
    "\n",
    "# Close the connection to the database\n",
    "db.close()\n"
   ]
  },
  {
   "cell_type": "markdown",
   "id": "09011170",
   "metadata": {},
   "source": [
    "# To display only a certain number of rows from table in database"
   ]
  },
  {
   "cell_type": "code",
   "execution_count": 2,
   "id": "13113b63",
   "metadata": {},
   "outputs": [
    {
     "name": "stdout",
     "output_type": "stream",
     "text": [
      "Connection to the database was successful!\n",
      "(1, bytearray(b'A Light in the Attic'), bytearray(b'Three'), bytearray(b'\\xc3\\x82\\xc2\\xa351.77'), bytearray(b'In stock'), bytearray(b''), bytearray(b'http://books.toscrape.com/dia/cache/2c/da/2cdad67c44b002e7ead0cc35693c0e8b.jpg'))\n",
      "(2, bytearray(b'Tipping the Velvet'), bytearray(b'One'), bytearray(b'\\xc3\\x82\\xc2\\xa353.74'), bytearray(b'In stock'), bytearray(b''), bytearray(b'http://books.toscrape.com/dia/cache/26/0c/260c6ae16bce31c8f8c95daddd9f4a1c.jpg'))\n",
      "(3, bytearray(b'Soumission'), bytearray(b'One'), bytearray(b'\\xc3\\x82\\xc2\\xa350.10'), bytearray(b'In stock'), bytearray(b''), bytearray(b'http://books.toscrape.com/dia/cache/3e/ef/3eef99c9d9adef34639f510662022830.jpg'))\n",
      "(4, bytearray(b'Sharp Objects'), bytearray(b'Four'), bytearray(b'\\xc3\\x82\\xc2\\xa347.82'), bytearray(b'In stock'), bytearray(b''), bytearray(b'http://books.toscrape.com/dia/cache/32/51/3251cf3a3412f53f339e42cac2134093.jpg'))\n",
      "(5, bytearray(b'Sapiens: A Brief History of Humankind'), bytearray(b'Five'), bytearray(b'\\xc3\\x82\\xc2\\xa354.23'), bytearray(b'In stock'), bytearray(b''), bytearray(b'http://books.toscrape.com/dia/cache/be/a5/bea5697f2534a2f86a3ef27b5a8c12a6.jpg'))\n",
      "(6, bytearray(b'The Requiem Red'), bytearray(b'One'), bytearray(b'\\xc3\\x82\\xc2\\xa322.65'), bytearray(b'In stock'), bytearray(b''), bytearray(b'http://books.toscrape.com/dia/cache/68/33/68339b4c9bc034267e1da611ab3b34f8.jpg'))\n",
      "(7, bytearray(b'The Dirty Little Secrets of Getting Your Dream Job'), bytearray(b'Four'), bytearray(b'\\xc3\\x82\\xc2\\xa333.34'), bytearray(b'In stock'), bytearray(b''), bytearray(b'http://books.toscrape.com/dia/cache/92/27/92274a95b7c251fea59a2b8a78275ab4.jpg'))\n",
      "(8, bytearray(b'The Coming Woman: A Novel Based on the Life of the Infamous Feminist, Victoria Woodhull'), bytearray(b'Three'), bytearray(b'\\xc3\\x82\\xc2\\xa317.93'), bytearray(b'In stock'), bytearray(b''), bytearray(b'http://books.toscrape.com/dia/cache/3d/54/3d54940e57e662c4dd1f3ff00c78cc64.jpg'))\n",
      "(9, bytearray(b'The Boys in the Boat: Nine Americans and Their Epic Quest for Gold at the 1936 Berlin Olympics'), bytearray(b'Four'), bytearray(b'\\xc3\\x82\\xc2\\xa322.60'), bytearray(b'In stock'), bytearray(b''), bytearray(b'http://books.toscrape.com/dia/cache/66/88/66883b91f6804b2323c8369331cb7dd1.jpg'))\n",
      "(10, bytearray(b'The Black Maria'), bytearray(b'One'), bytearray(b'\\xc3\\x82\\xc2\\xa352.15'), bytearray(b'In stock'), bytearray(b''), bytearray(b'http://books.toscrape.com/dia/cache/58/46/5846057e28022268153beff6d352b06c.jpg'))\n"
     ]
    }
   ],
   "source": [
    "# Connect to the MySQL database\n",
    "try:\n",
    "    db = mysql.connector.connect(\n",
    "        host=\"localhost\",\n",
    "        user=\"root\",\n",
    "        password=\"\",\n",
    "        database=\"books_db\"\n",
    "    )\n",
    "    print(\"Connection to the database was successful!\")\n",
    "except mysql.connector.Error as e:\n",
    "    print(f\"Error connecting to MySQL: {e}\")\n",
    "    exit()\n",
    "    \n",
    "# Create a cursor object to interact with the database\n",
    "cursor = db.cursor()\n",
    "\n",
    "# Select all the rows in the books table\n",
    "cursor.execute(\"SELECT * FROM books\")\n",
    "result = cursor.fetchall()\n",
    "\n",
    "# Display the first 10 rows\n",
    "for row in result[:10]:\n",
    "    print(row)\n",
    "\n",
    "# Close the connection to the database\n",
    "db.close()"
   ]
  }
 ],
 "metadata": {
  "kernelspec": {
   "display_name": "Python 3 (ipykernel)",
   "language": "python",
   "name": "python3"
  },
  "language_info": {
   "codemirror_mode": {
    "name": "ipython",
    "version": 3
   },
   "file_extension": ".py",
   "mimetype": "text/x-python",
   "name": "python",
   "nbconvert_exporter": "python",
   "pygments_lexer": "ipython3",
   "version": "3.11.0"
  }
 },
 "nbformat": 4,
 "nbformat_minor": 5
}
